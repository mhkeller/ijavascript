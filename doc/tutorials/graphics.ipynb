{
 "cells": [
  {
   "cell_type": "markdown",
   "metadata": {},
   "source": [
    "# Graphical output\n",
    "\n",
    "IJavascript provides a number of global variables to produce a graphical output.\n",
    "\n",
    "## Text formats\n",
    "\n",
    "IJavascript can output `HTML` and `SVG`.\n",
    "\n",
    "### `$$html$$`\n",
    "\n",
    "To output `HTML` simply assign a string with the HTML to the global variable\n",
    "`$$html$$`. See the example below:"
   ]
  },
  {
   "cell_type": "code",
   "execution_count": 9,
   "metadata": {
    "collapsed": false
   },
   "outputs": [],
   "source": [
    "$$html$$ = \"<div style='background-color:olive;width:50px;height:50px'></div>\""
   ]
  },
  {
   "cell_type": "markdown",
   "metadata": {},
   "source": [
    "### `$$svg$$`\n",
    "\n",
    "Similarly, it is possible to output `SVG` by assigning a string to the global\n",
    "variable `$$svg$$`:"
   ]
  },
  {
   "cell_type": "code",
   "execution_count": 10,
   "metadata": {
    "collapsed": false
   },
   "outputs": [],
   "source": [
    "$$svg$$ = \"<svg><rect width=80 height=80 style='fill: orange;'/></svg>\""
   ]
  },
  {
   "cell_type": "markdown",
   "metadata": {},
   "source": [
    "\n",
    "## Binary formats\n",
    "\n",
    "IJavascript can also output pictures in `PNG` and `JPEG` formats. However, this\n",
    "formats are binary and need to be encoded in `base64`. See how in the following\n",
    "examples.\n",
    "\n",
    "### `$$png$$`\n",
    "\n",
    "In the below example, a `PNG` file is read, then encoded in `base64` and finally\n",
    "assigned to the global variable `$$png$$`:\n"
   ]
  },
  {
   "cell_type": "code",
   "execution_count": 16,
   "metadata": {
    "collapsed": false
   },
   "outputs": [
    {
     "data": {
      "image/png": "[encoded data removed]"
     },
     "execution_count": 16,
     "metadata": {},
     "output_type": "execute_result"
    }
   ],
   "source": [
    "$$png$$ = require(\"fs\").readFileSync(\"res/Unofficial_JavaScript_logo.png\").toString(\"base64\");"
   ]
  },
  {
   "cell_type": "markdown",
   "metadata": {},
   "source": [
    "### `$$jpeg$$`\n",
    "\n",
    "Similarly with `JPEG` files and the global variable `$$jpeg$$`:"
   ]
  },
  {
   "cell_type": "code",
   "execution_count": 17,
   "metadata": {
    "collapsed": false
   },
   "outputs": [
    {
     "data": {
      "image/jpeg": "[encoded data removed]"
     },
     "execution_count": 17,
     "metadata": {},
     "output_type": "execute_result"
    }
   ],
   "source": [
    "$$jpeg$$ = require(\"fs\").readFileSync(\"res/Unofficial_JavaScript_logo.jpg\").toString(\"base64\");"
   ]
  },
  {
   "cell_type": "markdown",
   "metadata": {},
   "source": [
    "## MIME output\n",
    "\n",
    "IJavascript also provides the global variable `$$mime$$` to produce an output in\n",
    "any other format understood by the IPython frontend. Following is an example\n",
    "where instead of assigning an HTML string to the global variable `$$html$$`, the\n",
    "global variable `$$mime$$` is assigned an object with the HTML string assigned\n",
    "to the property `\"text/html\"`:"
   ]
  },
  {
   "cell_type": "code",
   "execution_count": 13,
   "metadata": {
    "collapsed": false
   },
   "outputs": [
    {
     "data": {
      "text/html": [
       "<div style='background-color:olive;width:50px;height:50px'></div>"
      ]
     },
     "execution_count": 13,
     "metadata": {},
     "output_type": "execute_result"
    }
   ],
   "source": [
    "$$mime$$ = {\"text/html\": \"<div style='background-color:olive;width:50px;height:50px'></div>\"};"
   ]
  }
 ],
 "metadata": {
  "kernelspec": {
   "display_name": "Javascript (Node.js)",
   "language": "javascript",
   "name": "javascript"
  },
  "language_info": {
   "name": "javascript",
   "version": "0.10.37"
  }
 },
 "nbformat": 4,
 "nbformat_minor": 0
}
